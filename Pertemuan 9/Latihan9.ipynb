{
  "nbformat": 4,
  "nbformat_minor": 0,
  "metadata": {
    "colab": {
      "name": "Latihan9.ipynb",
      "provenance": []
    },
    "kernelspec": {
      "name": "python3",
      "display_name": "Python 3"
    },
    "language_info": {
      "name": "python"
    }
  },
  "cells": [
    {
      "cell_type": "markdown",
      "source": [
        "1. DATASET"
      ],
      "metadata": {
        "id": "u22QNVCmYZ1I"
      }
    },
    {
      "cell_type": "code",
      "source": [
        "!pip install sklearn"
      ],
      "metadata": {
        "colab": {
          "base_uri": "https://localhost:8080/"
        },
        "id": "as7GNqRfZ1Gd",
        "outputId": "b9c0ab48-68f6-47d6-fd2f-74ab0f891d4b"
      },
      "execution_count": 5,
      "outputs": [
        {
          "output_type": "stream",
          "name": "stdout",
          "text": [
            "Requirement already satisfied: sklearn in /usr/local/lib/python3.7/dist-packages (0.0)\n",
            "Requirement already satisfied: scikit-learn in /usr/local/lib/python3.7/dist-packages (from sklearn) (1.0.2)\n",
            "Requirement already satisfied: scipy>=1.1.0 in /usr/local/lib/python3.7/dist-packages (from scikit-learn->sklearn) (1.4.1)\n",
            "Requirement already satisfied: threadpoolctl>=2.0.0 in /usr/local/lib/python3.7/dist-packages (from scikit-learn->sklearn) (3.1.0)\n",
            "Requirement already satisfied: numpy>=1.14.6 in /usr/local/lib/python3.7/dist-packages (from scikit-learn->sklearn) (1.21.5)\n",
            "Requirement already satisfied: joblib>=0.11 in /usr/local/lib/python3.7/dist-packages (from scikit-learn->sklearn) (1.1.0)\n"
          ]
        }
      ]
    },
    {
      "cell_type": "code",
      "execution_count": 8,
      "metadata": {
        "id": "5kGKKq6GXts8"
      },
      "outputs": [],
      "source": [
        "from sklearn import datasets\n",
        "iris = datasets.load_iris()\n",
        "X = iris.data\n",
        "y = iris.target"
      ]
    },
    {
      "cell_type": "code",
      "source": [
        "print(\"Banyak data: \", len(X))"
      ],
      "metadata": {
        "colab": {
          "base_uri": "https://localhost:8080/"
        },
        "id": "MJgohydyY7s1",
        "outputId": "4bf768c4-5d1f-4c7a-82b0-8e9b2892105d"
      },
      "execution_count": 9,
      "outputs": [
        {
          "output_type": "stream",
          "name": "stdout",
          "text": [
            "Banyak data:  150\n"
          ]
        }
      ]
    },
    {
      "cell_type": "code",
      "source": [
        "print(\"15 Data pertama: \")\n",
        "print(X[:15])"
      ],
      "metadata": {
        "colab": {
          "base_uri": "https://localhost:8080/"
        },
        "id": "tlcgkGKQZHw5",
        "outputId": "49916725-5f03-419e-ad2c-3344dc6410cf"
      },
      "execution_count": 10,
      "outputs": [
        {
          "output_type": "stream",
          "name": "stdout",
          "text": [
            "15 Data pertama: \n",
            "[[5.1 3.5 1.4 0.2]\n",
            " [4.9 3.  1.4 0.2]\n",
            " [4.7 3.2 1.3 0.2]\n",
            " [4.6 3.1 1.5 0.2]\n",
            " [5.  3.6 1.4 0.2]\n",
            " [5.4 3.9 1.7 0.4]\n",
            " [4.6 3.4 1.4 0.3]\n",
            " [5.  3.4 1.5 0.2]\n",
            " [4.4 2.9 1.4 0.2]\n",
            " [4.9 3.1 1.5 0.1]\n",
            " [5.4 3.7 1.5 0.2]\n",
            " [4.8 3.4 1.6 0.2]\n",
            " [4.8 3.  1.4 0.1]\n",
            " [4.3 3.  1.1 0.1]\n",
            " [5.8 4.  1.2 0.2]]\n"
          ]
        }
      ]
    },
    {
      "cell_type": "markdown",
      "source": [
        "2. SPLIT DATA"
      ],
      "metadata": {
        "id": "CtaSvCqGZUId"
      }
    },
    {
      "cell_type": "code",
      "source": [
        "from sklearn.model_selection import train_test_split\n",
        "X_train, X_test, y_train, y_test = train_test_split(X, y, train_size = 0.7)"
      ],
      "metadata": {
        "id": "0x95BR6cZW6O"
      },
      "execution_count": 11,
      "outputs": []
    },
    {
      "cell_type": "code",
      "source": [
        "print(\"Banyak data latih: \",len(X_train))\n",
        "print(\"Banyak data test: \",len(X_test))"
      ],
      "metadata": {
        "colab": {
          "base_uri": "https://localhost:8080/"
        },
        "id": "7sFSc2iEZ0So",
        "outputId": "2ae2d57f-7cd6-44be-d6c3-f2e7ada55dd5"
      },
      "execution_count": 12,
      "outputs": [
        {
          "output_type": "stream",
          "name": "stdout",
          "text": [
            "Banyak data latih:  105\n",
            "Banyak data test:  45\n"
          ]
        }
      ]
    },
    {
      "cell_type": "markdown",
      "source": [
        "K-Fold"
      ],
      "metadata": {
        "id": "2DYdlGDFaczd"
      }
    },
    {
      "cell_type": "code",
      "source": [
        "from sklearn.model_selection import cross_val_score\n",
        "from sklearn.svm import SVC\n",
        "\n",
        "model = SVC(kernel='linear', C=1)\n",
        "scores = cross_val_score(model, X, y, cv = 5)\n",
        "\n",
        "print(\"Akurasi SVM untuk setiap fold: \", scores)\n",
        "print(\"Akurasi SVM untuk 5-fold: \", scores.mean())"
      ],
      "metadata": {
        "colab": {
          "base_uri": "https://localhost:8080/"
        },
        "id": "tRu1gkWVaY5O",
        "outputId": "37db625e-ca92-478c-fb11-f49a43c4008e"
      },
      "execution_count": 14,
      "outputs": [
        {
          "output_type": "stream",
          "name": "stdout",
          "text": [
            "Akurasi SVM untuk setiap fold:  [0.96666667 1.         0.96666667 0.96666667 1.        ]\n",
            "Akurasi SVM untuk 5-fold:  0.9800000000000001\n"
          ]
        }
      ]
    },
    {
      "cell_type": "markdown",
      "source": [
        "UJI COBA MODEL KLARIFIKASI"
      ],
      "metadata": {
        "id": "AHeKmHpMbdhb"
      }
    },
    {
      "cell_type": "markdown",
      "source": [
        "1. KNN\n",
        "\n",
        "\n",
        "* sumber: https://scikit-learn.org/stable/modules/generated/sklearn.neighbors.KNeighborsClassifier.html#sklearn.neighbors.KNeighborsClassifier\n",
        "\n"
      ],
      "metadata": {
        "id": "K3Uz_62cbjUv"
      }
    },
    {
      "cell_type": "code",
      "source": [
        "from sklearn.neighbors import KNeighborsClassifier\n",
        "from sklearn import metrics\n",
        "\n",
        "knn = KNeighborsClassifier()\n",
        "\n",
        "knn.fit(X_train, y_train)\n",
        "y_prediksi = knn.predict(X_test)\n",
        "score = metrics.accuracy_score(y_test, y_prediksi)\n",
        "print(\"Akurasi model KNN sebesar: \", score)"
      ],
      "metadata": {
        "colab": {
          "base_uri": "https://localhost:8080/"
        },
        "id": "6sHv-92TbmCo",
        "outputId": "1221b6f7-0866-4140-d28a-f2bb263b0ae3"
      },
      "execution_count": 15,
      "outputs": [
        {
          "output_type": "stream",
          "name": "stdout",
          "text": [
            "Akurasi model KNN sebesar:  0.9555555555555556\n"
          ]
        }
      ]
    },
    {
      "cell_type": "markdown",
      "source": [
        "2. D-Tree\n",
        "\n",
        "\n",
        "* sumber: https://scikit-learn.org/stable/modules/generated/sklearn.tree.DecisionTreeClassifier.html#sklearn.tree.DecisionTreeClassifier\n",
        "\n",
        "\n"
      ],
      "metadata": {
        "id": "QMhS22EUdIb3"
      }
    },
    {
      "cell_type": "code",
      "source": [
        "from sklearn.tree import DecisionTreeClassifier\n",
        "from sklearn import metrics\n",
        "\n",
        "dt = DecisionTreeClassifier(max_depth = None, min_samples_split = 2)\n",
        "\n",
        "#Membagi data\n",
        "dt.fit(X_train, y_train)\n",
        "\n",
        "#memprediksi\n",
        "y_pred = dt.predict(X_test)\n",
        "\n",
        "#evaluasi\n",
        "score = metrics.accuracy_score(y_test, y_pred)\n",
        "print(\"Akurasi Model D-Tree: \", score)"
      ],
      "metadata": {
        "colab": {
          "base_uri": "https://localhost:8080/"
        },
        "id": "nRuoWNNfdS4y",
        "outputId": "cb422885-4c45-4630-f34b-26734dbf23df"
      },
      "execution_count": 17,
      "outputs": [
        {
          "output_type": "stream",
          "name": "stdout",
          "text": [
            "Akurasi Model D-Tree:  0.9333333333333333\n"
          ]
        }
      ]
    },
    {
      "cell_type": "markdown",
      "source": [
        "hyper parameter\n",
        "--> menggontak-atik parameter"
      ],
      "metadata": {
        "id": "UCsZTyKPg-K5"
      }
    },
    {
      "cell_type": "code",
      "source": [
        "dt = DecisionTreeClassifier(max_depth = 1, min_samples_split = 2)\n",
        "dt.fit(X_train, y_train)\n",
        "y_prediksi = dt.predict(X_test)\n",
        "score = metrics.accuracy_score(y_test, y_prediksi)\n",
        "print(\"Akurasi model D-Tree sebesar: \", score)"
      ],
      "metadata": {
        "colab": {
          "base_uri": "https://localhost:8080/"
        },
        "id": "J-zGkueJg08p",
        "outputId": "5e674b3a-98e9-401b-83a6-54f8629a613e"
      },
      "execution_count": 19,
      "outputs": [
        {
          "output_type": "stream",
          "name": "stdout",
          "text": [
            "Akurasi model D-Tree sebesar:  0.6666666666666666\n"
          ]
        }
      ]
    },
    {
      "cell_type": "markdown",
      "source": [
        "3. SVM\n",
        "\n",
        "\n",
        "* sumber: https://scikit-learn.org/stable/modules/generated/sklearn.svm.SVC.html\n",
        "\n"
      ],
      "metadata": {
        "id": "kbmgQXMhe8iV"
      }
    },
    {
      "cell_type": "code",
      "source": [
        "from sklearn.svm import SVC\n",
        "from sklearn import metrics\n",
        "\n",
        "svm = SVC(kernel='rbf', C = 1, gamma = 0.01)\n",
        "svm.fit(X_train, y_train)\n",
        "y_prediksi = svm.predict(X_test)\n",
        "score = metrics.accuracy_score(y_test, y_prediksi)\n",
        "print(\"Akurasi model SVM sebesar: \", score)"
      ],
      "metadata": {
        "colab": {
          "base_uri": "https://localhost:8080/"
        },
        "id": "H7taryzDd-JC",
        "outputId": "f54c9bd0-3391-4b01-8134-d24bc4117702"
      },
      "execution_count": 20,
      "outputs": [
        {
          "output_type": "stream",
          "name": "stdout",
          "text": [
            "Akurasi model SVM sebesar:  0.9555555555555556\n"
          ]
        }
      ]
    },
    {
      "cell_type": "code",
      "source": [
        "svmLinear = SVC(kernel='linear', C = 1)\n",
        "svmLinear.fit(X_train, y_train)\n",
        "y_prediksi = svmLinear.predict(X_test)\n",
        "score = metrics.accuracy_score(y_test, y_prediksi)\n",
        "print(\"Akurasi model SVM-Linear sebesar: \", score)"
      ],
      "metadata": {
        "colab": {
          "base_uri": "https://localhost:8080/"
        },
        "id": "A-_L0qGTf5fH",
        "outputId": "a20d2d8f-5f9b-42b0-e24a-b258958b1f5f"
      },
      "execution_count": 23,
      "outputs": [
        {
          "output_type": "stream",
          "name": "stdout",
          "text": [
            "Akurasi model SVM-Linear sebesar:  1.0\n"
          ]
        }
      ]
    },
    {
      "cell_type": "markdown",
      "source": [
        "4. Logistic Regression\n",
        "\n",
        "\n",
        "* sumber: https://scikit-learn.org/stable/modules/generated/sklearn.linear_model.LogisticRegression.html\n",
        "\n"
      ],
      "metadata": {
        "id": "zA7dEhVAhEKR"
      }
    },
    {
      "cell_type": "code",
      "source": [
        "from sklearn.linear_model import LogisticRegression\n",
        "from sklearn import metrics\n",
        "\n",
        "lr = LogisticRegression()\n",
        "lr.fit(X_train, y_train)\n",
        "y_prediksi = lr.predict(X_test)\n",
        "score = metrics.accuracy_score(y_test, y_prediksi)\n",
        "print(\"Akurasi model LogisticRegression sebesar: \", score)"
      ],
      "metadata": {
        "colab": {
          "base_uri": "https://localhost:8080/"
        },
        "id": "WvPr69TDheYV",
        "outputId": "f855dd59-bf38-49e5-dd79-57f910b0fa49"
      },
      "execution_count": 24,
      "outputs": [
        {
          "output_type": "stream",
          "name": "stdout",
          "text": [
            "Akurasi model LogisticRegression sebesar:  0.9555555555555556\n"
          ]
        }
      ]
    },
    {
      "cell_type": "markdown",
      "source": [
        "5. Naive Bayes\n",
        "\n",
        "\n",
        "*  sumber: https://scikit-learn.org/stable/modules/generated/sklearn.naive_bayes.BernoulliNB.html#sklearn.naive_bayes.BernoulliNB\n",
        "\n"
      ],
      "metadata": {
        "id": "S5tc-8J-iOpy"
      }
    },
    {
      "cell_type": "code",
      "source": [
        "from sklearn.naive_bayes import BernoulliNB\n",
        "from sklearn import metrics\n",
        "\n",
        "nb = BernoulliNB()\n",
        "nb.fit(X_train, y_train)\n",
        "y_pred = nb.predict(X_test)\n",
        "score = metrics.accuracy_score(y_test, y_pred)\n",
        "print(\"Akurasi Model Naive Bayes: \", score)"
      ],
      "metadata": {
        "colab": {
          "base_uri": "https://localhost:8080/"
        },
        "id": "3k2naeYJiNNi",
        "outputId": "ff60bab2-7e6b-4685-b121-7969ec6836a6"
      },
      "execution_count": 25,
      "outputs": [
        {
          "output_type": "stream",
          "name": "stdout",
          "text": [
            "Akurasi Model Naive Bayes:  0.28888888888888886\n"
          ]
        }
      ]
    }
  ]
}